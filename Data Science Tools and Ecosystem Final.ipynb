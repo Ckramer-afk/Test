{
 "cells": [
  {
   "cell_type": "markdown",
   "id": "8bd53541-ae02-4fcc-8225-af2f7407d60f",
   "metadata": {},
   "source": [
    "# \"Data Science Tools and Ecosystem\""
   ]
  },
  {
   "cell_type": "markdown",
   "id": "8613b8db-6118-4e94-a3f6-eadd4e3a4ed9",
   "metadata": {},
   "source": [
    "In this notebook, Data Science Tools and Ecosystem are summarized."
   ]
  },
  {
   "cell_type": "markdown",
   "id": "52dbcd54-0a28-4e48-a200-035b6325af3a",
   "metadata": {},
   "source": [
    "**Objectives**\n",
    "- Popular languages used in Data Science\n",
    "- Commonly used libraries\n",
    "- Data Science Tools\n",
    "- Examples of simple arithmetic expressions in Python"
   ]
  },
  {
   "cell_type": "markdown",
   "id": "02ca78e2-c3c1-4fd8-a456-912960964727",
   "metadata": {},
   "source": [
    "Some of the popular languages that Data Scientists use are:\n",
    "\n",
    "1. Python\n",
    "2. SEQL\n",
    "3. R"
   ]
  },
  {
   "cell_type": "markdown",
   "id": "236fc71b-4988-4a96-ac51-74533d1a357c",
   "metadata": {},
   "source": [
    "Some of the commonly used libraries used by Data Scientists include:\n",
    "\n",
    "1. Scientific computing libraries in python\n",
    "2. Visulaization libraries in python\n",
    "3. High level machine learning plus deep learning\n",
    "4. Deep Learning libraries in Python\n"
   ]
  },
  {
   "cell_type": "markdown",
   "id": "f663e295-a5db-48b5-a1d0-f663aed171fb",
   "metadata": {},
   "source": [
    "|Data Science Tools|\n",
    "|-------------------|\n",
    "|Hadoop|\n",
    "|Apache Airflow|\n",
    "|Apache WIFI|\n"
   ]
  },
  {
   "cell_type": "markdown",
   "id": "248b5e73-96e7-4101-a46b-b1babe54663f",
   "metadata": {},
   "source": [
    "### Below are a few examples of evaluating arithmetic expressions in Python"
   ]
  },
  {
   "cell_type": "markdown",
   "id": "ec88c773-9e1c-4685-8fe9-044a92f3cf12",
   "metadata": {},
   "source": [
    "This a simple arithmetic expression to multiply then add integers"
   ]
  },
  {
   "cell_type": "code",
   "execution_count": 16,
   "id": "940b137b-e0a1-4c3b-9df5-26a3f9994d85",
   "metadata": {},
   "outputs": [
    {
     "data": {
      "text/plain": [
       "17"
      ]
     },
     "execution_count": 16,
     "metadata": {},
     "output_type": "execute_result"
    }
   ],
   "source": [
    "(3*4)+5"
   ]
  },
  {
   "cell_type": "markdown",
   "id": "1841c179-4a97-4671-9541-951a07364cd8",
   "metadata": {},
   "source": [
    "This will convert 200 minutes to hours by diving by 60"
   ]
  },
  {
   "cell_type": "code",
   "execution_count": 18,
   "id": "06e6b9f8-dee2-4686-8143-edb4e7c7d03d",
   "metadata": {},
   "outputs": [
    {
     "data": {
      "text/plain": [
       "3.3333333333333335"
      ]
     },
     "execution_count": 18,
     "metadata": {},
     "output_type": "execute_result"
    }
   ],
   "source": [
    "200/60"
   ]
  },
  {
   "cell_type": "markdown",
   "id": "d0e831d1-c48f-4c6d-b0ee-dda3b9a43f30",
   "metadata": {},
   "source": [
    "## Author\n",
    "Coledon Kramer"
   ]
  },
  {
   "cell_type": "code",
   "execution_count": null,
   "id": "7feeec52-0954-4696-809a-8627e5d11552",
   "metadata": {},
   "outputs": [],
   "source": []
  }
 ],
 "metadata": {
  "kernelspec": {
   "display_name": "Python [conda env:base] *",
   "language": "python",
   "name": "conda-base-py"
  },
  "language_info": {
   "codemirror_mode": {
    "name": "ipython",
    "version": 3
   },
   "file_extension": ".py",
   "mimetype": "text/x-python",
   "name": "python",
   "nbconvert_exporter": "python",
   "pygments_lexer": "ipython3",
   "version": "3.12.7"
  }
 },
 "nbformat": 4,
 "nbformat_minor": 5
}
